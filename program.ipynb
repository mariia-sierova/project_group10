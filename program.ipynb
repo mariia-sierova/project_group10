{
 "cells": [
  {
   "cell_type": "code",
   "execution_count": 3,
   "id": "11e990c6-bfd1-4e9b-b48b-6da1040b57dd",
   "metadata": {},
   "outputs": [
    {
     "name": "stdin",
     "output_type": "stream",
     "text": [
      "Enter your name:  jason\n",
      "Enter a number:  3\n",
      "Enter some text:  jiason\n"
     ]
    },
    {
     "name": "stdout",
     "output_type": "stream",
     "text": [
      "Hello, jason! Your result is: 6\n",
      "Hello, jason! Your transformed text is: NOSAIJ\n"
     ]
    }
   ],
   "source": [
    "# Get user inputs\n",
    "name = input(\"Enter your name: \")\n",
    "number = int(input(\"Enter a number: \"))\n",
    "user_text = input(\"Enter some text: \")\n",
    "\n",
    "# Do something \n",
    "result = number * 2\n",
    "transformed_text = user_text[::-1].upper()\n",
    "\n",
    "# result\n",
    "print(f\"Hello, {name}! Your result is: {result}\")\n",
    "print(f\"Hello, {name}! Your transformed text is: {transformed_text}\")"
   ]
  },
  {
   "cell_type": "code",
   "execution_count": null,
   "id": "1b82f51c-8199-43cd-aa8d-ef2a7069b9fb",
   "metadata": {},
   "outputs": [],
   "source": []
  }
 ],
 "metadata": {
  "kernelspec": {
   "display_name": "Python 3 (ipykernel)",
   "language": "python",
   "name": "python3"
  },
  "language_info": {
   "codemirror_mode": {
    "name": "ipython",
    "version": 3
   },
   "file_extension": ".py",
   "mimetype": "text/x-python",
   "name": "python",
   "nbconvert_exporter": "python",
   "pygments_lexer": "ipython3",
   "version": "3.11.5"
  }
 },
 "nbformat": 4,
 "nbformat_minor": 5
}
